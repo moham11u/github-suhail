{
    "cells": [
        {
            "cell_type": "markdown",
            "metadata": {
                "collapsed": true
            },
            "source": "# Capstone Project - The Battle of The Neighbourhoods (week 1)"
        },
        {
            "cell_type": "markdown",
            "metadata": {},
            "source": "## Introduction/Business problem"
        },
        {
            "cell_type": "markdown",
            "metadata": {},
            "source": "New york is a large and ethicinally diverse city. It is the largest city in the United States with a long history of international immigration. New York City was home to over 8.3 million people in 2019, accounting for over 40% of the population of New York State and a slightly lower percentage of the New York metropolitan area, home to approximately 23.6 million. Over the last decade the city has been growing faster than the region. The New York region continues to be by far the leading metropolitan gateway for legal immigrants admitted into the United States.Throughout its history, New York City has been a major point of entry for immigrants. \n\nAs many as 800 languages are spoken in New York, making it the most linguistically diverse city in the world.English remains the most widely spoken language, although there are areas in the outer boroughs in which up to 25% of people speak English as an alternate language, and/or have limited or no English language fluency. English is least spoken in neighborhoods such as Flushing, Sunset Park, and Corona.\n\nNew york is also known for having good food. With its diverse culture comes plenty of resturants that serve foods from all over the world. There are many resturants in New york each belonging to different categories like indian, chinese, arabic, hispanic etc. Lets us take a look at the best way to open up an Arabic resturant in New York. \n"
        },
        {
            "cell_type": "markdown",
            "metadata": {},
            "source": "## Problem"
        },
        {
            "cell_type": "markdown",
            "metadata": {},
            "source": "To Find the answers to the following questions: \n1) List and visualize all major parts of New York that have great Arabic resturants\n2) Find the best location in New York for Arabic food\n3) Which areas are good for opening your own Arabic resturant "
        }
    ],
    "metadata": {
        "kernelspec": {
            "display_name": "Python 3.6",
            "language": "python",
            "name": "python3"
        },
        "language_info": {
            "codemirror_mode": {
                "name": "ipython",
                "version": 3
            },
            "file_extension": ".py",
            "mimetype": "text/x-python",
            "name": "python",
            "nbconvert_exporter": "python",
            "pygments_lexer": "ipython3",
            "version": "3.6.9"
        }
    },
    "nbformat": 4,
    "nbformat_minor": 1
}