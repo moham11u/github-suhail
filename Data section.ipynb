{
    "cells": [
        {
            "cell_type": "markdown",
            "metadata": {
                "collapsed": true
            },
            "source": "# Capstone Project - The Battle of The Neighborhoods (Week 1)"
        },
        {
            "cell_type": "markdown",
            "metadata": {},
            "source": "## Data Section: "
        },
        {
            "cell_type": "markdown",
            "metadata": {},
            "source": "For this project we need the following data: \n- New York city data that contains list of Boroughs, Neighbourhoods, and longitude and latitude of those neighbourhoods. \n   * Data Source: https://cocl.us/new_york_dataset \n   * Description: This data set has the required information. we will use this data to explore different neighbourhoods in New York"
        },
        {
            "cell_type": "markdown",
            "metadata": {},
            "source": "- Arabic restaurants in eahc neighbourhood in New York\n  * Data Source: Foursquare API\n  * Description: Foursquare API will allow us to explore each neighbourhood and obtain information on venues in these neighbourhoods. we will also be  able to filter these venues to narrow it down to only Arabic restaurants."
        },
        {
            "cell_type": "markdown",
            "metadata": {},
            "source": "- GeoSpace Data\n  * Data Source: https://data.cityofnewyork.us/City-Government/Borough-Boundries/tqmj-j8zm \n  * Description: By using this GeoSpace Data it will allow us to get the New York city norough boundries which will help us be able to visualize our choropleth map         "
        }
    ],
    "metadata": {
        "kernelspec": {
            "display_name": "Python 3.6",
            "language": "python",
            "name": "python3"
        },
        "language_info": {
            "codemirror_mode": {
                "name": "ipython",
                "version": 3
            },
            "file_extension": ".py",
            "mimetype": "text/x-python",
            "name": "python",
            "nbconvert_exporter": "python",
            "pygments_lexer": "ipython3",
            "version": "3.6.9"
        }
    },
    "nbformat": 4,
    "nbformat_minor": 1
}